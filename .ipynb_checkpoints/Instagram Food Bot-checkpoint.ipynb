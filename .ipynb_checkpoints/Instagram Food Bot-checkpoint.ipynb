{
 "cells": [
  {
   "cell_type": "markdown",
   "metadata": {},
   "source": [
    "### Import The Libraries"
   ]
  },
  {
   "cell_type": "code",
   "execution_count": 1,
   "metadata": {},
   "outputs": [],
   "source": [
    "from selenium import webdriver\n",
    "from selenium.webdriver.support import expected_conditions as EC\n",
    "from selenium.webdriver.common.by import By\n",
    "from selenium.webdriver.support.ui import WebDriverWait\n",
    "import numpy as np\n",
    "import time\n",
    "import pandas as pd\n",
    "import matplotlib.pyplot as plt"
   ]
  },
  {
   "cell_type": "code",
   "execution_count": 2,
   "metadata": {},
   "outputs": [],
   "source": [
    "#Place the address of the chrome driver properly\n",
    "driver=webdriver.Chrome('chromedriver')"
   ]
  },
  {
   "cell_type": "code",
   "execution_count": 3,
   "metadata": {},
   "outputs": [],
   "source": [
    "driver.get('https://www.instagram.com/')\n",
    "driver.maximize_window()\n",
    "driver.implicitly_wait(10)"
   ]
  },
  {
   "cell_type": "markdown",
   "metadata": {},
   "source": [
    "### Input The Credentials"
   ]
  },
  {
   "cell_type": "code",
   "execution_count": 4,
   "metadata": {},
   "outputs": [],
   "source": [
    "username_box = driver.find_element_by_name('username')\n",
    "username_box.send_keys('SAMPLE USERNAME')\n",
    "password_box = driver.find_element_by_name('password')\n",
    "password_box.send_keys('SAMPLE PASSWORD')\n",
    "\n",
    "log_in = driver.find_element_by_xpath('//*[@id=\"react-root\"]/section/main/article/div[2]/div[1]/div/form/div[4]/button/div')\n",
    "log_in.click()\n",
    "\n",
    "driver.implicitly_wait(10)"
   ]
  },
  {
   "cell_type": "code",
   "execution_count": 5,
   "metadata": {},
   "outputs": [],
   "source": [
    "#If the Pop up comes\n",
    "if(driver.find_element_by_class_name('piCib')):\n",
    "    Not_now = driver.find_element_by_class_name('HoLwm')\n",
    "    Not_now.click()\n",
    "    \n",
    "\n"
   ]
  },
  {
   "cell_type": "code",
   "execution_count": 6,
   "metadata": {},
   "outputs": [],
   "source": [
    "#Search food \n",
    "driver.find_element_by_xpath('//span[contains(@class, \"TqC_a\")]').click()\n",
    "driver.find_element_by_xpath('//input[contains(@class, \"XTCLo\")]').send_keys('food')\n"
   ]
  },
  {
   "cell_type": "markdown",
   "metadata": {},
   "source": [
    "## Q1.1 Re-Scraping the instagram handles which will appear on typing \"Food\" in the search bar."
   ]
  },
  {
   "cell_type": "code",
   "execution_count": 7,
   "metadata": {},
   "outputs": [],
   "source": [
    "count=0\n",
    "users=[]\n",
    "# list of top 10 users will be stored in this list.\n",
    "for i in driver.find_elements_by_xpath('//span[@class=\"Ap253\"]'):\n",
    "    user_n=i.get_attribute('innerHTML')\n",
    "    if user_n[0]!='#' and count<10:\n",
    "        users.append(i.get_attribute('innerHTML'))\n",
    "        count+=1"
   ]
  },
  {
   "cell_type": "code",
   "execution_count": 8,
   "metadata": {},
   "outputs": [
    {
     "data": {
      "text/plain": [
       "['foodgod',\n",
       " 'foodnetwork',\n",
       " 'foodnetworkkitchen',\n",
       " 'foodinsider',\n",
       " 'food52',\n",
       " 'foodandwine',\n",
       " 'buzzfeedfood',\n",
       " 'healthyfoodadvice',\n",
       " 'majorfoodgroup',\n",
       " 'wholefoods']"
      ]
     },
     "execution_count": 8,
     "metadata": {},
     "output_type": "execute_result"
    }
   ],
   "source": [
    "users"
   ]
  },
  {
   "cell_type": "code",
   "execution_count": 9,
   "metadata": {},
   "outputs": [],
   "source": [
    "# Clear the Search bar\n",
    "driver.find_element_by_class_name('XTCLo ') \n",
    "clear_key = driver.find_element_by_class_name('coreSpriteSearchClear')\n",
    "clear_key.click()"
   ]
  },
  {
   "cell_type": "code",
   "execution_count": 10,
   "metadata": {},
   "outputs": [
    {
     "name": "stdout",
     "output_type": "stream",
     "text": [
      "foodgod   3598065\n",
      "foodnetwork   3598065\n",
      "foodnetworkkitchen   10325580\n",
      "foodinsider   440693\n",
      "food52   2182063\n",
      "foodandwine   2684594\n",
      "buzzfeedfood   3380693\n",
      "healthyfoodadvice   3757264\n",
      "majorfoodgroup   3959690\n",
      "wholefoods   32766\n"
     ]
    }
   ],
   "source": [
    "followers = []\n",
    "for User in users:\n",
    "    \n",
    "    search_bar = driver.find_element_by_class_name('x3qfX')\n",
    "    search_bar.send_keys(User)\n",
    "    search_res = driver.find_element_by_class_name('yCE8d')\n",
    "    search_res.click()\n",
    "    driver.implicitly_wait(10)\n",
    "    \n",
    "    att = driver.find_elements_by_class_name('g47SY')\n",
    "    followers_per_user = att[1].get_attribute('title')\n",
    "    followers_per_user = int(followers_per_user.replace(',',''))\n",
    "    followers.append(followers_per_user)\n",
    "    print(User,' ',followers_per_user)\n",
    "    time.sleep(5)\n"
   ]
  },
  {
   "cell_type": "code",
   "execution_count": 11,
   "metadata": {},
   "outputs": [
    {
     "name": "stdout",
     "output_type": "stream",
     "text": [
      "[3598065, 3598065, 10325580, 440693, 2182063, 2684594, 3380693, 3757264, 3959690, 32766]\n",
      "['foodgod', 'foodnetwork', 'foodnetworkkitchen', 'foodinsider', 'food52', 'foodandwine', 'buzzfeedfood', 'healthyfoodadvice', 'majorfoodgroup', 'wholefoods']\n"
     ]
    }
   ],
   "source": [
    "print(followers)\n",
    "print(users)"
   ]
  },
  {
   "cell_type": "code",
   "execution_count": 12,
   "metadata": {},
   "outputs": [
    {
     "name": "stdout",
     "output_type": "stream",
     "text": [
      "foodnetworkkitchen\n",
      "majorfoodgroup\n",
      "healthyfoodadvice\n",
      "foodnetwork\n",
      "foodgod\n"
     ]
    }
   ],
   "source": [
    "#Printing the Top 5\n",
    "followers=np.array(followers, dtype='int')\n",
    "users=np.array(users)\n",
    "#sorted in ascending order\n",
    "users=users[np.argsort(followers)][::-1]\n",
    "followers=followers[np.argsort(followers)][::-1]\n",
    "#now printing top 5 \n",
    "top5=[]\n",
    "for x in range(5):\n",
    "    print(users[x])\n",
    "    top5.append(users[x])"
   ]
  },
  {
   "cell_type": "markdown",
   "metadata": {},
   "source": [
    "## Q1.2. Finding the number of posts these handles have done in the previous 3 days."
   ]
  },
  {
   "cell_type": "code",
   "execution_count": 13,
   "metadata": {
    "scrolled": true
   },
   "outputs": [
    {
     "name": "stdout",
     "output_type": "stream",
     "text": [
      "foodnetworkkitchen\n",
      "19\n",
      "majorfoodgroup\n",
      "4\n",
      "healthyfoodadvice\n",
      "4\n",
      "foodnetwork\n",
      "46\n",
      "foodgod\n",
      "2\n"
     ]
    }
   ],
   "source": [
    "\n",
    "posts = []\n",
    "\n",
    "for User in top5:\n",
    "    print(User)#, end=' ')\n",
    "   \n",
    "    #Give username to search bar\n",
    "    \n",
    "    search_bar = driver.find_element_by_class_name('x3qfX')\n",
    "    search_bar.send_keys(User)\n",
    "    search_res = driver.find_element_by_class_name('yCE8d')\n",
    "    search_res.click()\n",
    "    driver.implicitly_wait(10)\n",
    "    time.sleep(10)\n",
    "\n",
    "    post = driver.find_element_by_class_name('_9AhH0')\n",
    "    post.click()\n",
    "    count = 0\n",
    "    while True:\n",
    "        try:\n",
    "            time_dur = driver.find_element_by_class_name('FH9sR.Nzb55')\n",
    "            time_dur = time_dur.get_attribute('innerHTML')\n",
    "        except:\n",
    "            continue\n",
    "        #print(time_dur)\n",
    "        d_h = time_dur[-1]\n",
    "        #if the last is 'y'(year) or 'w'(weeks) then break \n",
    "        if d_h  in ('y','w'):\n",
    "            break\n",
    "        if d_h == 'd':\n",
    "            days = int(time_dur[:-1])\n",
    "            if days > 3:\n",
    "                cross_button = driver.find_element_by_xpath('//div[contains(@class,\"                   Igw0E     IwRSH      eGOV_         _4EzTm                                                                                  BI4qX            qJPeX            fm1AK   TxciK yiMZG\")]')\n",
    "                cross_button.click()\n",
    "                break\n",
    "            else:\n",
    "                count += 1\n",
    "        else:\n",
    "            count += 1\n",
    "        #Shift Right\n",
    "        driver.find_element_by_class_name('coreSpriteRightPaginationArrow').click()\n",
    "        time.sleep(0.3)\n",
    "    print(count)\n",
    "    posts.append(count)\n"
   ]
  },
  {
   "cell_type": "markdown",
   "metadata": {},
   "source": [
    "## Q1.3. Plotting Graph"
   ]
  },
  {
   "cell_type": "code",
   "execution_count": 14,
   "metadata": {},
   "outputs": [
    {
     "data": {
      "text/plain": [
       "<Figure size 432x288 with 0 Axes>"
      ]
     },
     "metadata": {},
     "output_type": "display_data"
    },
    {
     "data": {
      "image/png": "[encoded data removed]",
      "text/plain": [
       "<Figure size 720x360 with 1 Axes>"
      ]
     },
     "metadata": {
      "needs_background": "light"
     },
     "output_type": "display_data"
    }
   ],
   "source": [
    "#plotting a graph between those 10 users and the number of followers\n",
    "plt.subplots(0, 0)\n",
    "plt.figure(figsize=(10, 5))\n",
    "plt.bar(users, followers)\n",
    "plt.xticks(rotation=45)\n",
    "plt.title('Users Vs No. of Followers', size = 14)\n",
    "plt.xlabel('Users', size = 14)\n",
    "plt.ylabel('Followers', size = 14)\n",
    "plt.grid()\n",
    "plt.show()"
   ]
  },
  {
   "cell_type": "code",
   "execution_count": 15,
   "metadata": {},
   "outputs": [
    {
     "data": {
      "text/plain": [
       "<Figure size 432x288 with 0 Axes>"
      ]
     },
     "metadata": {},
     "output_type": "display_data"
    },
    {
     "data": {
      "image/png": "[encoded data removed]",
      "text/plain": [
       "<Figure size 360x360 with 1 Axes>"
      ]
     },
     "metadata": {
      "needs_background": "light"
     },
     "output_type": "display_data"
    }
   ],
   "source": [
    "#graph between top 5 users and the number of posts\n",
    "plt.subplots(0, 1)\n",
    "plt.figure(figsize=(5, 5))\n",
    "plt.bar(top5,posts)\n",
    "plt.xticks(rotation=45)\n",
    "plt.title('Users vs No, of Posts', size=14)\n",
    "plt.xlabel('Users', size=14)\n",
    "plt.ylabel('No. of Posts', size=14)\n",
    "plt.grid()\n",
    "plt.show()"
   ]
  },
  {
   "cell_type": "markdown",
   "metadata": {},
   "source": [
    "##  Q2.1. Opening the 5 handles  obtained in the last question, and scraping the content of the first 10 posts of each handle."
   ]
  },
  {
   "cell_type": "code",
   "execution_count": 16,
   "metadata": {},
   "outputs": [],
   "source": [
    "total_words = []\n",
    "hashtags = []"
   ]
  },
  {
   "cell_type": "code",
   "execution_count": 17,
   "metadata": {},
   "outputs": [],
   "source": [
    "\n",
    "for User in top5:\n",
    "    search_bar = driver.find_element_by_class_name('x3qfX')\n",
    "    search_bar.send_keys(User)\n",
    "    search_res = driver.find_element_by_class_name('yCE8d')\n",
    "    search_res.click()\n",
    "    driver.implicitly_wait(10)\n",
    "    time.sleep(10)\n",
    "\n",
    "    post = driver.find_element_by_class_name('_9AhH0')\n",
    "    post.click()\n",
    "    count = 0\n",
    "    \n",
    "    i = 1\n",
    "    \n",
    "    while i <= 10:\n",
    "        i += 1\n",
    "        #If it is taking time in loading\n",
    "        try:\n",
    "            total_words.append(driver.find_element_by_xpath('//div[contains(@class, \"C4VMK\")]/span').get_attribute('textContent'))\n",
    "            for hashes in driver.find_elements_by_xpath('//div[contains(@class, \"C4VMK\")]/span/a'):\n",
    "                hashtags.append(hashes.get_attribute('innerHTML'))\n",
    "        except:\n",
    "            #Shift Right\n",
    "            driver.find_element_by_class_name('coreSpriteRightPaginationArrow').click()\n",
    "            time.sleep(3)\n",
    "        driver.back()\n",
    "        time.sleep(1)\n",
    "       \n",
    "        \n",
    "        #Shift Right\n",
    "        driver.find_element_by_class_name('coreSpriteRightPaginationArrow').click()\n",
    "        time.sleep(3)\n",
    "    \n",
    "    cross_button = driver.find_element_by_xpath('//div[contains(@class,\"                   Igw0E     IwRSH      eGOV_         _4EzTm                                                                                  BI4qX            qJPeX            fm1AK   TxciK yiMZG\")]')\n",
    "    cross_button.click()\n",
    "   "
   ]
  },
  {
   "cell_type": "markdown",
   "metadata": {},
   "source": [
    "# Cleaning the data"
   ]
  },
  {
   "cell_type": "code",
   "execution_count": 18,
   "metadata": {
    "scrolled": true
   },
   "outputs": [
    {
     "name": "stdout",
     "output_type": "stream",
     "text": [
      "Join in on our #WeCookTogether weekend on the #FoodNetworkKitchen app! Cook along LIVE with some of your favorite Food Network chefs starting at 12|11c this Saturday and Sunday, and ask questions as you cook along. Head to your #FoodNetworkKitchen app to see the full lineup and set your reminders! #WeCookTogether\n",
      "#WeCookTogether\n"
     ]
    }
   ],
   "source": [
    "print(total_words[0])\n",
    "print(hashtags[0])"
   ]
  },
  {
   "cell_type": "code",
   "execution_count": 19,
   "metadata": {
    "scrolled": true
   },
   "outputs": [
    {
     "data": {
      "text/plain": [
       "['#WeCookTogether',\n",
       " '#FoodNetworkKitchen',\n",
       " '#FoodNetworkKitchen',\n",
       " '#WeCookTogether',\n",
       " '#FoodNetworkKitchen',\n",
       " '#FoodNetworkKitchen',\n",
       " '#FoodNetworkKitchen',\n",
       " '#ed',\n",
       " '#FoodNetworkKitchen',\n",
       " '#WeCookTogether',\n",
       " '#FoodNetworkKitchen',\n",
       " '#WeCookTogether',\n",
       " '#FoodNetworkKitchen',\n",
       " '#FoodNetworkKitchen',\n",
       " '#FoodNetworkKitchen',\n",
       " '#Sweepstakes',\n",
       " '#foodnetworkkitchen',\n",
       " '#amazonfirestick',\n",
       " '#symondinners',\n",
       " '#FoodNetworkKitchen',\n",
       " '#FoodNetworkKitchen',\n",
       " '#WeCookTogether',\n",
       " '#majorfoodgroup',\n",
       " '#eeeeeats',\n",
       " '#newforkcity',\n",
       " '#forkyeah',\n",
       " '#eatmunchies',\n",
       " '#zagat',\n",
       " '#feastagram',\n",
       " '#eater',\n",
       " '#love',\n",
       " '#instagood',\n",
       " '#eaterny',\n",
       " '#food',\n",
       " '#igdaily',\n",
       " '#grubstreet',\n",
       " '#photooftheday',\n",
       " '#feedfeed',\n",
       " '#foodandwine',\n",
       " '#yelpeatsnyc',\n",
       " '#instafood',\n",
       " '#nyc',\n",
       " '#foodbeast',\n",
       " '#mfgthegrill',\n",
       " '#primerib',\n",
       " '#thegrill',\n",
       " '#majorfoodgroup',\n",
       " '#eeeeeats',\n",
       " '#newforkcity',\n",
       " '#forkyeah',\n",
       " '#eatmunchies',\n",
       " '#zagat',\n",
       " '#feastagram',\n",
       " '#eater',\n",
       " '#love',\n",
       " '#instagood',\n",
       " '#eaterny',\n",
       " '#food',\n",
       " '#igdaily',\n",
       " '#grubstreet',\n",
       " '#photooftheday',\n",
       " '#feedfeed',\n",
       " '#foodandwine',\n",
       " '#yelpeatsnyc',\n",
       " '#instafood',\n",
       " '#nyc',\n",
       " '#foodbeast',\n",
       " '#mfgcarbone',\n",
       " '#carrotcake',\n",
       " '#carbone',\n",
       " '#herpes',\n",
       " '#hiv',\n",
       " '#cancer',\n",
       " '#diabetes',\n",
       " '#Stroke',\n",
       " '#majorfoodgroup',\n",
       " '#eeeeeats',\n",
       " '#newforkcity',\n",
       " '#forkyeah',\n",
       " '#eatmunchies',\n",
       " '#zagat',\n",
       " '#feastagram',\n",
       " '#eater',\n",
       " '#love',\n",
       " '#instagood',\n",
       " '#eaterny',\n",
       " '#food',\n",
       " '#igdaily',\n",
       " '#grubstreet',\n",
       " '#photooftheday',\n",
       " '#feedfeed',\n",
       " '#foodandwine',\n",
       " '#yelpeatsnyc',\n",
       " '#instafood',\n",
       " '#nyc',\n",
       " '#foodbeast',\n",
       " '#mfgcarbone',\n",
       " '#lasagna',\n",
       " '#carbone',\n",
       " '#caviar',\n",
       " '#majorfoodgroup',\n",
       " '#eeeeeats',\n",
       " '#newforkcity',\n",
       " '#forkyeah',\n",
       " '#eatmunchies',\n",
       " '#zagat',\n",
       " '#feastagram',\n",
       " '#eater',\n",
       " '#love',\n",
       " '#instagood',\n",
       " '#eaterny',\n",
       " '#food',\n",
       " '#igdaily',\n",
       " '#grubstreet',\n",
       " '#photooftheday',\n",
       " '#feedfeed',\n",
       " '#foodandwine',\n",
       " '#yelpeatsnyc',\n",
       " '#instafood',\n",
       " '#nyc',\n",
       " '#foodbeast',\n",
       " '#mfgcarbone',\n",
       " '#caviar',\n",
       " '#doordash',\n",
       " '#spicyrigatoni',\n",
       " '#carbone',\n",
       " '#majorfoodgroup',\n",
       " '#eeeeeats',\n",
       " '#newforkcity',\n",
       " '#forkyeah',\n",
       " '#eatmunchies',\n",
       " '#zagat',\n",
       " '#feastagram',\n",
       " '#eater',\n",
       " '#love',\n",
       " '#instagood',\n",
       " '#eaterny',\n",
       " '#food',\n",
       " '#igdaily',\n",
       " '#grubstreet',\n",
       " '#photooftheday',\n",
       " '#feedfeed',\n",
       " '#foodandwine',\n",
       " '#yelpeatsnyc',\n",
       " '#instafood',\n",
       " '#nyc',\n",
       " '#foodbeast',\n",
       " '#mfgcarbone',\n",
       " '#caviar',\n",
       " '#carbone',\n",
       " '#majorfoodgroup',\n",
       " '#eeeeeats',\n",
       " '#newforkcity',\n",
       " '#forkyeah',\n",
       " '#eatmunchies',\n",
       " '#zagat',\n",
       " '#feastagram',\n",
       " '#eater',\n",
       " '#love',\n",
       " '#instagood',\n",
       " '#eaterny',\n",
       " '#food',\n",
       " '#igdaily',\n",
       " '#grubstreet',\n",
       " '#photooftheday',\n",
       " '#feedfeed',\n",
       " '#foodandwine',\n",
       " '#yelpeatsnyc',\n",
       " '#instafood',\n",
       " '#nyc',\n",
       " '#foodbeast',\n",
       " '#mfgcarbone',\n",
       " '#vealparm',\n",
       " '#carbone',\n",
       " '#caviar',\n",
       " '#doordash',\n",
       " '#majorfoodgroup',\n",
       " '#eeeeeats',\n",
       " '#newforkcity',\n",
       " '#forkyeah',\n",
       " '#eatmunchies',\n",
       " '#zagat',\n",
       " '#feastagram',\n",
       " '#eater',\n",
       " '#love',\n",
       " '#instagood',\n",
       " '#eaterny',\n",
       " '#food',\n",
       " '#igdaily',\n",
       " '#grubstreet',\n",
       " '#photooftheday',\n",
       " '#feedfeed',\n",
       " '#foodandwine',\n",
       " '#yelpeatsnyc',\n",
       " '#instafood',\n",
       " '#nyc',\n",
       " '#foodbeast',\n",
       " '#mfgcarbone',\n",
       " '#caviar',\n",
       " '#doordash',\n",
       " '#nyc',\n",
       " '#majorfoodgroup',\n",
       " '#eeeeeats',\n",
       " '#newforkcity',\n",
       " '#forkyeah',\n",
       " '#eatmunchies',\n",
       " '#zagat',\n",
       " '#feastagram',\n",
       " '#eater',\n",
       " '#love',\n",
       " '#instagood',\n",
       " '#eaterny',\n",
       " '#food',\n",
       " '#igdaily',\n",
       " '#grubstreet',\n",
       " '#photooftheday',\n",
       " '#feedfeed',\n",
       " '#foodandwine',\n",
       " '#yelpeatsnyc',\n",
       " '#instafood',\n",
       " '#nyc',\n",
       " '#foodbeast',\n",
       " '#mfgcarbone',\n",
       " '#caviar',\n",
       " '#carbone',\n",
       " '#majorfoodgroup',\n",
       " '#eeeeeats',\n",
       " '#newforkcity',\n",
       " '#forkyeah',\n",
       " '#eatmunchies',\n",
       " '#zagat',\n",
       " '#feastagram',\n",
       " '#eater',\n",
       " '#love',\n",
       " '#instagood',\n",
       " '#eaterny',\n",
       " '#food',\n",
       " '#igdaily',\n",
       " '#grubstreet',\n",
       " '#photooftheday',\n",
       " '#feedfeed',\n",
       " '#foodandwine',\n",
       " '#yelpeatsnyc',\n",
       " '#instafood',\n",
       " '#nyc',\n",
       " '#foodbeast',\n",
       " '#mfgcarbone',\n",
       " '#rainbowcookies',\n",
       " '#carbone',\n",
       " '#cavir',\n",
       " '#healthylife',\n",
       " '#healthy',\n",
       " '#happy',\n",
       " '#healing',\n",
       " '#holistic',\n",
       " '#naturalhealing',\n",
       " '#natural',\n",
       " '#herbalmedicine',\n",
       " '#alkalinefood',\n",
       " '#food',\n",
       " '#healer',\n",
       " '#alkalineliving',\n",
       " '#minerals',\n",
       " '#nature',\n",
       " '#organic',\n",
       " '#vegan',\n",
       " '#alkalinediet',\n",
       " '#staystrong',\n",
       " '#staysexy',\n",
       " '#whatsonmyplate',\n",
       " '#breakfast',\n",
       " '#egg',\n",
       " '#eggs',\n",
       " '#yummy',\n",
       " '#healthyfood',\n",
       " '#healthy',\n",
       " '#tasty',\n",
       " '#avocado',\n",
       " '#healthybreakfast',\n",
       " '#3',\n",
       " '#healthy',\n",
       " '#plantbased',\n",
       " '#veganbowls',\n",
       " '#vegansofig',\n",
       " '#veganfoodshare',\n",
       " '#whatveganseat',\n",
       " '#veganrecipes',\n",
       " '#plantbasedfood',\n",
       " '#veganfood',\n",
       " '#veganrecipe',\n",
       " '#WeCookTogether',\n",
       " '#WeCookTogether',\n",
       " '#RestaurantImpossible',\n",
       " '#WeCook',\n",
       " '#SymonDinners',\n",
       " '#FoodNetworkKitchen',\n",
       " '#WeCook',\n",
       " '#WeCookTogether',\n",
       " '#WeCook',\n",
       " '#ALLINCHALLENGE',\n",
       " '#giveaway',\n",
       " '#giveawaycontest',\n",
       " '#giveaways',\n",
       " '#contestgiveaway',\n",
       " '#entertowin',\n",
       " '#foodlover',\n",
       " '#instagiveaway',\n",
       " '#giveawaytime',\n",
       " '#stayhome',\n",
       " '#restaurant',\n",
       " '#winner',\n",
       " '#hungry',\n",
       " '#foodgod',\n",
       " '#giveback',\n",
       " '#giveawayalert',\n",
       " '#contestgram',\n",
       " '#restaurantlife',\n",
       " '#staystrong',\n",
       " '#giveawaytime',\n",
       " '#fitness',\n",
       " '#gym',\n",
       " '#workout',\n",
       " '#fit',\n",
       " '#foodgod',\n",
       " '#fitnessmotivation',\n",
       " '#motivation',\n",
       " '#food',\n",
       " '#training',\n",
       " '#health',\n",
       " '#fitfam',\n",
       " '#vodka',\n",
       " '#staystrong',\n",
       " '#diy',\n",
       " '#giveback',\n",
       " '#foodgod',\n",
       " '#dogood',\n",
       " '#helpingothers',\n",
       " '#youmatter',\n",
       " '#staycalm',\n",
       " '#bepatient',\n",
       " '#staystrong',\n",
       " '#staypositive',\n",
       " '#bestrong',\n",
       " '#dontgiveup',\n",
       " '#wecandothis',\n",
       " '#miami',\n",
       " '#strawberry',\n",
       " '#dessertoftheday',\n",
       " '#dessertheaven',\n",
       " '#foodlovers',\n",
       " '#dessertlover',\n",
       " '#sweettooth',\n",
       " '#yumm',\n",
       " '#dessert',\n",
       " '#yummy',\n",
       " '#foodgod',\n",
       " '#sweets',\n",
       " '#uk',\n",
       " '#chocolate',\n",
       " '#foodgod',\n",
       " '#foodgod',\n",
       " '#whippedcoffee',\n",
       " '#stayhome',\n",
       " '#socialdistancing',\n",
       " '#recipe',\n",
       " '#recipevideo',\n",
       " '#stayhome',\n",
       " '#coffeeaddict',\n",
       " '#coffeevibes',\n",
       " '#recipeoftheday',\n",
       " '#easyrecipes',\n",
       " '#recipes',\n",
       " '#diy',\n",
       " '#dalgonacoffee',\n",
       " '#diycoffee',\n",
       " '#dalgonacoffeechallenge',\n",
       " '#dalgona']"
      ]
     },
     "execution_count": 19,
     "metadata": {},
     "output_type": "execute_result"
    }
   ],
   "source": [
    "#here in the question i am considering that \"words\" mean hashtags. because there will be no sense of getting the frequency of all the words in the content.\n",
    "#firstly i will convert the \"hashtags\" list to a numpy array\n",
    "hashtags=np.array(hashtags)\n",
    "hash_tags=[]#it will contain all the actual hashtags, where all the usernames are filtered from the hashtags array\n",
    "for i in hashtags:\n",
    "    if not i[0]=='@' and i!='':\n",
    "        hash_tags.append(i)\n",
    "#now \"hash_tags\" is the actual array which we actually require so we will keep it\n",
    "hash_tags"
   ]
  },
  {
   "cell_type": "markdown",
   "metadata": {},
   "source": [
    "## Q2.2. Preparing a list of all words used in all the scraped posts and calculating the frequency of each word."
   ]
  },
  {
   "cell_type": "code",
   "execution_count": 20,
   "metadata": {},
   "outputs": [
    {
     "data": {
      "text/plain": [
       "{'#WeCookTogether': 8,\n",
       " '#FoodNetworkKitchen': 13,\n",
       " '#ed': 1,\n",
       " '#Sweepstakes': 1,\n",
       " '#foodnetworkkitchen': 1,\n",
       " '#amazonfirestick': 1,\n",
       " '#symondinners': 1,\n",
       " '#majorfoodgroup': 9,\n",
       " '#eeeeeats': 9,\n",
       " '#newforkcity': 9,\n",
       " '#forkyeah': 9,\n",
       " '#eatmunchies': 9,\n",
       " '#zagat': 9,\n",
       " '#feastagram': 9,\n",
       " '#eater': 9,\n",
       " '#love': 9,\n",
       " '#instagood': 9,\n",
       " '#eaterny': 9,\n",
       " '#food': 11,\n",
       " '#igdaily': 9,\n",
       " '#grubstreet': 9,\n",
       " '#photooftheday': 9,\n",
       " '#feedfeed': 9,\n",
       " '#foodandwine': 9,\n",
       " '#yelpeatsnyc': 9,\n",
       " '#instafood': 9,\n",
       " '#nyc': 10,\n",
       " '#foodbeast': 9,\n",
       " '#mfgthegrill': 1,\n",
       " '#primerib': 1,\n",
       " '#thegrill': 1,\n",
       " '#mfgcarbone': 8,\n",
       " '#carrotcake': 1,\n",
       " '#carbone': 7,\n",
       " '#herpes': 1,\n",
       " '#hiv': 1,\n",
       " '#cancer': 1,\n",
       " '#diabetes': 1,\n",
       " '#Stroke': 1,\n",
       " '#lasagna': 1,\n",
       " '#caviar': 6,\n",
       " '#doordash': 3,\n",
       " '#spicyrigatoni': 1,\n",
       " '#vealparm': 1,\n",
       " '#rainbowcookies': 1,\n",
       " '#cavir': 1,\n",
       " '#healthylife': 1,\n",
       " '#healthy': 3,\n",
       " '#happy': 1,\n",
       " '#healing': 1,\n",
       " '#holistic': 1,\n",
       " '#naturalhealing': 1,\n",
       " '#natural': 1,\n",
       " '#herbalmedicine': 1,\n",
       " '#alkalinefood': 1,\n",
       " '#healer': 1,\n",
       " '#alkalineliving': 1,\n",
       " '#minerals': 1,\n",
       " '#nature': 1,\n",
       " '#organic': 1,\n",
       " '#vegan': 1,\n",
       " '#alkalinediet': 1,\n",
       " '#staystrong': 4,\n",
       " '#staysexy': 1,\n",
       " '#whatsonmyplate': 1,\n",
       " '#breakfast': 1,\n",
       " '#egg': 1,\n",
       " '#eggs': 1,\n",
       " '#yummy': 2,\n",
       " '#healthyfood': 1,\n",
       " '#tasty': 1,\n",
       " '#avocado': 1,\n",
       " '#healthybreakfast': 1,\n",
       " '#3': 1,\n",
       " '#plantbased': 1,\n",
       " '#veganbowls': 1,\n",
       " '#vegansofig': 1,\n",
       " '#veganfoodshare': 1,\n",
       " '#whatveganseat': 1,\n",
       " '#veganrecipes': 1,\n",
       " '#plantbasedfood': 1,\n",
       " '#veganfood': 1,\n",
       " '#veganrecipe': 1,\n",
       " '#RestaurantImpossible': 1,\n",
       " '#WeCook': 3,\n",
       " '#SymonDinners': 1,\n",
       " '#ALLINCHALLENGE': 1,\n",
       " '#giveaway': 1,\n",
       " '#giveawaycontest': 1,\n",
       " '#giveaways': 1,\n",
       " '#contestgiveaway': 1,\n",
       " '#entertowin': 1,\n",
       " '#foodlover': 1,\n",
       " '#instagiveaway': 1,\n",
       " '#giveawaytime': 2,\n",
       " '#stayhome': 3,\n",
       " '#restaurant': 1,\n",
       " '#winner': 1,\n",
       " '#hungry': 1,\n",
       " '#foodgod': 6,\n",
       " '#giveback': 2,\n",
       " '#giveawayalert': 1,\n",
       " '#contestgram': 1,\n",
       " '#restaurantlife': 1,\n",
       " '#fitness': 1,\n",
       " '#gym': 1,\n",
       " '#workout': 1,\n",
       " '#fit': 1,\n",
       " '#fitnessmotivation': 1,\n",
       " '#motivation': 1,\n",
       " '#training': 1,\n",
       " '#health': 1,\n",
       " '#fitfam': 1,\n",
       " '#vodka': 1,\n",
       " '#diy': 2,\n",
       " '#dogood': 1,\n",
       " '#helpingothers': 1,\n",
       " '#youmatter': 1,\n",
       " '#staycalm': 1,\n",
       " '#bepatient': 1,\n",
       " '#staypositive': 1,\n",
       " '#bestrong': 1,\n",
       " '#dontgiveup': 1,\n",
       " '#wecandothis': 1,\n",
       " '#miami': 1,\n",
       " '#strawberry': 1,\n",
       " '#dessertoftheday': 1,\n",
       " '#dessertheaven': 1,\n",
       " '#foodlovers': 1,\n",
       " '#dessertlover': 1,\n",
       " '#sweettooth': 1,\n",
       " '#yumm': 1,\n",
       " '#dessert': 1,\n",
       " '#sweets': 1,\n",
       " '#uk': 1,\n",
       " '#chocolate': 1,\n",
       " '#whippedcoffee': 1,\n",
       " '#socialdistancing': 1,\n",
       " '#recipe': 1,\n",
       " '#recipevideo': 1,\n",
       " '#coffeeaddict': 1,\n",
       " '#coffeevibes': 1,\n",
       " '#recipeoftheday': 1,\n",
       " '#easyrecipes': 1,\n",
       " '#recipes': 1,\n",
       " '#dalgonacoffee': 1,\n",
       " '#diycoffee': 1,\n",
       " '#dalgonacoffeechallenge': 1,\n",
       " '#dalgona': 1}"
      ]
     },
     "execution_count": 20,
     "metadata": {},
     "output_type": "execute_result"
    }
   ],
   "source": [
    "dic=dict()#this will store the frequencies of all the hashtags\n",
    "for i in hash_tags:\n",
    "    if i in dic.keys():\n",
    "        dic[i]+=1\n",
    "    else:\n",
    "        dic[i]=1\n",
    "dic\n",
    "#this is our dictionary which contains all the frequencies of the hashtags"
   ]
  },
  {
   "cell_type": "markdown",
   "metadata": {},
   "source": [
    "## Q2.3. Creating a csv file with two columns : the word and its frequency"
   ]
  },
  {
   "cell_type": "code",
   "execution_count": 21,
   "metadata": {},
   "outputs": [],
   "source": [
    "hash_word=np.array([i[1:] for i in dic.keys()])\n",
    "frequency=np.array([i for i in dic.values()])\n",
    "df=pd.DataFrame()\n",
    "df['Words']=hash_word\n",
    "df['Frequency']=frequency\n",
    "df.to_csv('Hashtag_Frequencies.csv')\n",
    "#hence the file is saved in the working directory"
   ]
  },
  {
   "cell_type": "markdown",
   "metadata": {},
   "source": [
    "## Q2.4. Finding the hashtags that were most popular among these bloggers"
   ]
  },
  {
   "cell_type": "code",
   "execution_count": 22,
   "metadata": {},
   "outputs": [
    {
     "name": "stdout",
     "output_type": "stream",
     "text": [
      "FoodNetworkKitchen : 13\n",
      "food : 11\n",
      "nyc : 10\n",
      "eatmunchies : 9\n",
      "grubstreet : 9\n",
      "igdaily : 9\n",
      "eaterny : 9\n",
      "instagood : 9\n",
      "love : 9\n",
      "eater : 9\n",
      "feastagram : 9\n",
      "zagat : 9\n",
      "forkyeah : 9\n",
      "feedfeed : 9\n",
      "newforkcity : 9\n",
      "eeeeeats : 9\n",
      "majorfoodgroup : 9\n",
      "foodandwine : 9\n",
      "yelpeatsnyc : 9\n",
      "instafood : 9\n",
      "foodbeast : 9\n",
      "photooftheday : 9\n",
      "mfgcarbone : 8\n",
      "WeCookTogether : 8\n",
      "carbone : 7\n",
      "caviar : 6\n",
      "foodgod : 6\n",
      "staystrong : 4\n",
      "stayhome : 3\n",
      "WeCook : 3\n",
      "doordash : 3\n",
      "healthy : 3\n",
      "yummy : 2\n",
      "diy : 2\n",
      "giveawaytime : 2\n",
      "giveback : 2\n",
      "holistic : 1\n",
      "naturalhealing : 1\n",
      "natural : 1\n",
      "healing : 1\n",
      "herbalmedicine : 1\n",
      "alkalinefood : 1\n",
      "whatsonmyplate : 1\n",
      "healer : 1\n",
      "alkalineliving : 1\n",
      "breakfast : 1\n",
      "nature : 1\n",
      "organic : 1\n",
      "vegan : 1\n",
      "alkalinediet : 1\n",
      "staysexy : 1\n",
      "eggs : 1\n",
      "egg : 1\n",
      "minerals : 1\n",
      "cancer : 1\n",
      "happy : 1\n",
      "healthylife : 1\n",
      "ed : 1\n",
      "Sweepstakes : 1\n",
      "foodnetworkkitchen : 1\n",
      "amazonfirestick : 1\n",
      "symondinners : 1\n",
      "mfgthegrill : 1\n",
      "primerib : 1\n",
      "thegrill : 1\n",
      "carrotcake : 1\n",
      "herpes : 1\n",
      "hiv : 1\n",
      "tasty : 1\n",
      "diabetes : 1\n",
      "Stroke : 1\n",
      "lasagna : 1\n",
      "spicyrigatoni : 1\n",
      "vealparm : 1\n",
      "rainbowcookies : 1\n",
      "cavir : 1\n",
      "healthyfood : 1\n",
      "dalgona : 1\n",
      "avocado : 1\n",
      "dontgiveup : 1\n",
      "foodlovers : 1\n",
      "dessertheaven : 1\n",
      "dessertoftheday : 1\n",
      "strawberry : 1\n",
      "miami : 1\n",
      "wecandothis : 1\n",
      "bestrong : 1\n",
      "sweettooth : 1\n",
      "staypositive : 1\n",
      "bepatient : 1\n",
      "staycalm : 1\n",
      "youmatter : 1\n",
      "helpingothers : 1\n",
      "dogood : 1\n",
      "dessertlover : 1\n",
      "yumm : 1\n",
      "fitfam : 1\n",
      "coffeeaddict : 1\n",
      "diycoffee : 1\n",
      "dalgonacoffee : 1\n",
      "recipes : 1\n",
      "easyrecipes : 1\n",
      "recipeoftheday : 1\n",
      "coffeevibes : 1\n",
      "recipevideo : 1\n",
      "dessert : 1\n",
      "recipe : 1\n",
      "socialdistancing : 1\n",
      "whippedcoffee : 1\n",
      "chocolate : 1\n",
      "uk : 1\n",
      "sweets : 1\n",
      "vodka : 1\n",
      "health : 1\n",
      "healthybreakfast : 1\n",
      "plantbasedfood : 1\n",
      "giveaway : 1\n",
      "ALLINCHALLENGE : 1\n",
      "SymonDinners : 1\n",
      "RestaurantImpossible : 1\n",
      "veganrecipe : 1\n",
      "veganfood : 1\n",
      "veganrecipes : 1\n",
      "giveaways : 1\n",
      "whatveganseat : 1\n",
      "veganfoodshare : 1\n",
      "vegansofig : 1\n",
      "veganbowls : 1\n",
      "dalgonacoffeechallenge : 1\n",
      "3 : 1\n",
      "giveawaycontest : 1\n",
      "contestgiveaway : 1\n",
      "training : 1\n",
      "restaurantlife : 1\n",
      "motivation : 1\n",
      "fitnessmotivation : 1\n",
      "fit : 1\n",
      "workout : 1\n",
      "gym : 1\n",
      "fitness : 1\n",
      "contestgram : 1\n",
      "entertowin : 1\n",
      "giveawayalert : 1\n",
      "hungry : 1\n",
      "winner : 1\n",
      "restaurant : 1\n",
      "instagiveaway : 1\n",
      "foodlover : 1\n",
      "plantbased : 1\n"
     ]
    }
   ],
   "source": [
    "hash_word=hash_word[np.argsort(frequency)][::-1]\n",
    "frequency=frequency[np.argsort(frequency)][::-1]\n",
    "for i in range(len(hash_word)):\n",
    "    print(hash_word[i], \":\", frequency[i])"
   ]
  },
  {
   "cell_type": "markdown",
   "metadata": {},
   "source": [
    "## Q2.5. Plotting a Pie Chart of the top 5 hashtags obtained and the number of times they were used by these bloggers in the scraped posts"
   ]
  },
  {
   "cell_type": "code",
   "execution_count": 23,
   "metadata": {},
   "outputs": [
    {
     "data": {
      "image/png": "[encoded data removed]",
      "text/plain": [
       "<Figure size 432x432 with 1 Axes>"
      ]
     },
     "metadata": {},
     "output_type": "display_data"
    }
   ],
   "source": [
    "x=hash_word[:5]\n",
    "y=frequency[:5]\n",
    "plt.figure(figsize=(6, 6))\n",
    "plt.pie(y, labels=x, autopct='%.2f%%')\n",
    "plt.title('Pie Chart of the top 5 hashtags ')\n",
    "plt.show()"
   ]
  },
  {
   "cell_type": "markdown",
   "metadata": {},
   "source": [
    "## Q3.1. Finding out the likes of the top 10 posts of the 5 handles obtained earlier."
   ]
  },
  {
   "cell_type": "code",
   "execution_count": 24,
   "metadata": {},
   "outputs": [],
   "source": [
    "no_of_likes = []\n",
    "followers_list = []"
   ]
  },
  {
   "cell_type": "code",
   "execution_count": 25,
   "metadata": {
    "scrolled": true
   },
   "outputs": [
    {
     "name": "stdout",
     "output_type": "stream",
     "text": [
      "foodnetworkkitchen\n",
      "followers 440,693\n",
      "1\n",
      "183\n",
      "2\n",
      "676\n",
      "3\n",
      "1,716\n",
      "4\n",
      "1,124\n",
      "5\n",
      "930\n",
      "6\n",
      "452\n",
      "7\n",
      "845\n",
      "8\n",
      "482\n",
      "9\n",
      "722\n",
      "10\n",
      "1,119\n",
      "majorfoodgroup\n",
      "followers 32,766\n",
      "1\n",
      "1,019\n",
      "2\n",
      "529\n",
      "3\n",
      "579\n",
      "4\n",
      "1,857\n",
      "5\n",
      "1,024\n",
      "6\n",
      "371\n",
      "7\n",
      "929\n",
      "8\n",
      "121\n",
      "9\n",
      "982\n",
      "10\n",
      "1,073\n",
      "healthyfoodadvice\n",
      "followers 3,959,690\n",
      "1\n",
      "11,110\n",
      "2\n",
      "14,225\n",
      "3\n",
      "14,481\n",
      "4\n",
      "19,891\n",
      "5\n",
      "14,042\n",
      "6\n",
      "14,533\n",
      "7\n",
      "11,229\n",
      "8\n",
      "9,632\n",
      "9\n",
      "8,636\n",
      "10\n",
      "15,991\n",
      "foodnetwork\n",
      "followers 10,325,580\n",
      "1\n",
      "12,529\n",
      "2\n",
      "1,765\n",
      "3\n",
      "10,168\n",
      "4\n",
      "3,349\n",
      "5\n",
      "14,798\n",
      "6\n",
      "15,560\n",
      "7\n",
      "9,025\n",
      "8\n",
      "5,720\n",
      "9\n",
      "8,133\n",
      "10\n",
      "12,309\n",
      "foodgod\n",
      "followers 3,598,065\n",
      "1\n",
      "26,538\n",
      "2\n",
      "55,761\n",
      "3\n",
      "7,939\n",
      "4\n",
      "12,165\n",
      "5\n",
      "6,339\n",
      "6\n",
      "57,435\n",
      "7\n",
      "54,528\n",
      "8\n",
      "14,708\n",
      "9\n",
      "28,129\n",
      "10\n",
      "16,005\n"
     ]
    }
   ],
   "source": [
    "no_of_likes = []\n",
    "for Users in top5:\n",
    "    print(Users)\n",
    "    likes_user = []\n",
    "    search_bar = driver.find_element_by_class_name('x3qfX')\n",
    "    search_bar.send_keys(Users)\n",
    "    search_res = driver.find_element_by_class_name('yCE8d')\n",
    "    search_res.click()\n",
    "    driver.implicitly_wait(8)\n",
    "    time.sleep(8)\n",
    "\n",
    "    followers = driver.find_elements_by_class_name('g47SY ')[1]\n",
    "    print('followers',followers.get_attribute('title'))\n",
    "    followers_list.append(followers.get_attribute('title'))\n",
    "    \n",
    "    \n",
    "    post = driver.find_element_by_class_name('_9AhH0')\n",
    "    post.click()\n",
    "    \n",
    "    \n",
    "    i = 1\n",
    "    \n",
    "    while i <= 10:\n",
    "        print(i)\n",
    "        i += 1\n",
    "        #If it is taking time in loading\n",
    "        try:\n",
    "            \n",
    "            driver.find_element_by_xpath('/html/body/div[4]/div[2]/div/article/div[2]/section[2]/div/span/span').click()\n",
    "            time.sleep(1)\n",
    "            likes =  driver.find_element_by_xpath('/html/body/div[4]/div[2]/div/article/div[2]/section[2]/div/div/div[4]/span')\n",
    "            print(likes.get_attribute('innerHTML'))\n",
    "            react = likes.get_attribute('innerHTML')\n",
    "            #react = react.replce(',','')\n",
    "            #react = int(react)\n",
    "            likes_user.append(react)\n",
    "            #driver.find_element_by_xpath('/html/body/div[4]/div[2]/div/article/div[2]/section[2]/div/span/span').click()\n",
    "            driver.find_element_by_xpath('//div[contains(@class,\"QhbhU\")]').click()\n",
    "        except:\n",
    "            likes =  driver.find_element_by_xpath('/html/body/div[4]/div[2]/div/article/div[2]/section[2]/div/div/button/span')\n",
    "            print(likes.get_attribute('innerHTML'))\n",
    "            react = likes.get_attribute('innerHTML')\n",
    "            #react = react.replce(',','')\n",
    "            \n",
    "            likes_user.append(react)\n",
    " \n",
    "            \n",
    "        \n",
    "        time.sleep(1)\n",
    "       \n",
    "        \n",
    "        #Shift Right\n",
    "        driver.find_element_by_class_name('coreSpriteRightPaginationArrow').click()\n",
    "        \n",
    "        time.sleep(1)\n",
    "    \n",
    "    cross_button = driver.find_element_by_xpath('//div[contains(@class,\"                   Igw0E     IwRSH      eGOV_         _4EzTm                                                                                  BI4qX            qJPeX            fm1AK   TxciK yiMZG\")]')\n",
    "    cross_button.click()\n",
    "    \n",
    "    no_of_likes.append(likes_user)"
   ]
  },
  {
   "cell_type": "code",
   "execution_count": 26,
   "metadata": {},
   "outputs": [
    {
     "name": "stdout",
     "output_type": "stream",
     "text": [
      "8249\n",
      "8484\n",
      "133770\n",
      "93356\n",
      "279547\n"
     ]
    }
   ],
   "source": [
    "likes_store = []\n",
    "for col in no_of_likes:\n",
    "    total = 0\n",
    "    for reacts in col:\n",
    "        reacts = reacts.replace(',','')\n",
    "        reacts = int(reacts)\n",
    "        total += reacts\n",
    "    print(total)\n",
    "    likes_store.append(total)"
   ]
  },
  {
   "cell_type": "code",
   "execution_count": 27,
   "metadata": {},
   "outputs": [
    {
     "data": {
      "text/plain": [
       "array(['foodnetworkkitchen', 'majorfoodgroup', 'healthyfoodadvice',\n",
       "       'foodnetwork', 'foodgod'], dtype='<U18')"
      ]
     },
     "execution_count": 27,
     "metadata": {},
     "output_type": "execute_result"
    }
   ],
   "source": [
    "top5=np.array(top5)\n",
    "top5"
   ]
  },
  {
   "cell_type": "code",
   "execution_count": 28,
   "metadata": {},
   "outputs": [
    {
     "data": {
      "text/plain": [
       "array([  8249,   8484, 133770,  93356, 279547])"
      ]
     },
     "execution_count": 28,
     "metadata": {},
     "output_type": "execute_result"
    }
   ],
   "source": [
    "likes_store = np.array(    likes_store)\n",
    "#likes on the top 10 posts for those 5 users\n",
    "likes_store"
   ]
  },
  {
   "cell_type": "code",
   "execution_count": 29,
   "metadata": {},
   "outputs": [
    {
     "data": {
      "text/plain": [
       "array([  440693,    32766,  3959690, 10325580,  3598065])"
      ]
     },
     "execution_count": 29,
     "metadata": {},
     "output_type": "execute_result"
    }
   ],
   "source": [
    "followers_list2 = []\n",
    "for ele in followers_list:\n",
    "    f = int(ele.replace(',',''))\n",
    "    followers_list2.append(f)\n",
    "\n",
    "followers_list2 = np.array(followers_list2)\n",
    "followers_list2"
   ]
  },
  {
   "cell_type": "markdown",
   "metadata": {},
   "source": [
    "## Q3.2. Calculating the average likes for a handle."
   ]
  },
  {
   "cell_type": "code",
   "execution_count": 30,
   "metadata": {},
   "outputs": [
    {
     "name": "stdout",
     "output_type": "stream",
     "text": [
      "foodnetworkkitchen  :  824.9\n",
      "majorfoodgroup  :  848.4\n",
      "healthyfoodadvice  :  13377.0\n",
      "foodnetwork  :  9335.6\n",
      "foodgod  :  27954.7\n"
     ]
    }
   ],
   "source": [
    "average_likes=likes_store/10\n",
    "average_likes\n",
    "for i in range(5):\n",
    "    print(top5[i],' : ',average_likes[i])"
   ]
  },
  {
   "cell_type": "markdown",
   "metadata": {},
   "source": [
    "## Q3.3. Dividing the average likes obtained from the number of followers of the handle to get the average followers:like ratio of each handle"
   ]
  },
  {
   "cell_type": "code",
   "execution_count": 34,
   "metadata": {},
   "outputs": [
    {
     "name": "stdout",
     "output_type": "stream",
     "text": [
      "foodnetworkkitchen  :  534.2381\n",
      "majorfoodgroup  :  38.6209\n",
      "healthyfoodadvice  :  296.0073\n",
      "foodnetwork  :  1106.0435\n",
      "foodgod  :  128.7106\n"
     ]
    }
   ],
   "source": [
    "ratio=followers_list2/average_likes\n",
    "for i in range(5):\n",
    "    print(top5[i],' : ',round(ratio[i],4))"
   ]
  },
  {
   "cell_type": "markdown",
   "metadata": {},
   "source": [
    "## Q3.4.Create a bar graph to depict the above obtained information."
   ]
  },
  {
   "cell_type": "code",
   "execution_count": 39,
   "metadata": {},
   "outputs": [
    {
     "data": {
      "image/png": "[encoded data removed]",
      "text/plain": [
       "<Figure size 504x504 with 1 Axes>"
      ]
     },
     "metadata": {
      "needs_background": "light"
     },
     "output_type": "display_data"
    }
   ],
   "source": [
    "#plotting the graph between average followers to the likes ratio and users.\n",
    "plt.figure(figsize=(7,7))\n",
    "plt.bar(top5, ratio)\n",
    "plt.xticks(rotation=45, size=14)\n",
    "plt.xlabel('Users', size=14)\n",
    "plt.ylabel('Avg Followers to Likes Ratio', size=14)\n",
    "plt.yticks(size=12)\n",
    "plt.grid()\n",
    "plt.show()"
   ]
  },
  {
   "cell_type": "code",
   "execution_count": null,
   "metadata": {},
   "outputs": [],
   "source": []
  }
 ],
 "metadata": {
  "kernelspec": {
   "display_name": "Python 3",
   "language": "python",
   "name": "python3"
  },
  "language_info": {
   "codemirror_mode": {
    "name": "ipython",
    "version": 3
   },
   "file_extension": ".py",
   "mimetype": "text/x-python",
   "name": "python",
   "nbconvert_exporter": "python",
   "pygments_lexer": "ipython3",
   "version": "3.8.2"
  },
  "toc": {
   "base_numbering": 1,
   "nav_menu": {},
   "number_sections": true,
   "sideBar": true,
   "skip_h1_title": false,
   "title_cell": "Table of Contents",
   "title_sidebar": "Contents",
   "toc_cell": false,
   "toc_position": {},
   "toc_section_display": true,
   "toc_window_display": false
  },
  "varInspector": {
   "cols": {
    "lenName": 16,
    "lenType": 16,
    "lenVar": 40
   },
   "kernels_config": {
    "python": {
     "delete_cmd_postfix": "",
     "delete_cmd_prefix": "del ",
     "library": "var_list.py",
     "varRefreshCmd": "print(var_dic_list())"
    },
    "r": {
     "delete_cmd_postfix": ") ",
     "delete_cmd_prefix": "rm(",
     "library": "var_list.r",
     "varRefreshCmd": "cat(var_dic_list()) "
    }
   },
   "types_to_exclude": [
    "module",
    "function",
    "builtin_function_or_method",
    "instance",
    "_Feature"
   ],
   "window_display": false
  }
 },
 "nbformat": 4,
 "nbformat_minor": 4
}
